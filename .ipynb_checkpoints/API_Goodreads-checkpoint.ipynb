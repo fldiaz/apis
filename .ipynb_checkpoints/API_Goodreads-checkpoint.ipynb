{
 "cells": [
  {
   "cell_type": "markdown",
   "metadata": {},
   "source": [
    "#### The Goodreads API allows developers access to Goodreads data.\n",
    "#### The API can be used in many ways, including:these are some examples, you can find more in https://www.goodreads.com/api/index#author.show\n",
    "        \n"
   ]
  },
  {
   "cell_type": "code",
   "execution_count": 1,
   "metadata": {},
   "outputs": [],
   "source": [
    "import pandas as pd\n",
    "from goodreads import client\n",
    "import re\n",
    "import matplotlib.pyplot as plt\n",
    "import requests\n",
    "import xmltodict\n",
    "import json\n",
    "def nulls(df):\n",
    "    nulls = pd.DataFrame(df.isnull().sum().sort_values(), columns=['nulls'])\n",
    "    nulls['porcentaje'] = round(100*nulls['nulls'] / len(df), 2)\n",
    "    nulls.sort_values('porcentaje')\n",
    "    return nulls\n",
    "\n",
    "from json import loads, dumps\n",
    "from collections import OrderedDict\n",
    "from goodreads import client\n",
    "\n",
    "\n",
    "\n",
    "API_KEY = 'shoGJW8HQemzBMKKuSOPA'"
   ]
  },
  {
   "cell_type": "code",
   "execution_count": 5,
   "metadata": {},
   "outputs": [],
   "source": [
    "autores=pd.read_csv('Data/df_prueba.csv')"
   ]
  },
  {
   "cell_type": "markdown",
   "metadata": {},
   "source": [
    "### 1. Cantidad de reviews por autor\n",
    "\n"
   ]
  },
  {
   "cell_type": "code",
   "execution_count": null,
   "metadata": {},
   "outputs": [],
   "source": [
    "autores.titulo"
   ]
  },
  {
   "cell_type": "code",
   "execution_count": null,
   "metadata": {},
   "outputs": [],
   "source": [
    "version='v1'\n",
    "output_filename = '{}_goodreads_autores.csv'.format(version)\n",
    "\n",
    "# Specify the column name in your input data that contains the autors name here\n",
    "column_name = \"nombre_apellido\"\n",
    "RETURN_FULL_RESULTS = False\n",
    "# Form a list of names:\n",
    "nombres = autores[column_name].tolist()"
   ]
  },
  {
   "cell_type": "code",
   "execution_count": null,
   "metadata": {},
   "outputs": [],
   "source": [
    "nombres"
   ]
  },
  {
   "cell_type": "code",
   "execution_count": null,
   "metadata": {},
   "outputs": [],
   "source": [
    "def get_autor(nombres, api_key, return_full_response=False):\n",
    " \n",
    "    goodreads_url = 'https://www.goodreads.com/search.xml'\n",
    "    if API_KEY is not None:\n",
    "        goodreads_url = goodreads_url + \"?key={}\".format(API_KEY)\n",
    "        goodreads_url= goodreads_url + \"&q={}\".format(nombres)\n",
    "        \n",
    "    # Ping godreads for the reuslts:\n",
    "    results = requests.get(goodreads_url)\n",
    "    reviews_books = xmltodict.parse(results.content)['GoodreadsResponse']\n",
    "    \n",
    "    # if there's no results or an error, return empty results.\n",
    "    if reviews_books['search'].get('total-results') == '0':\n",
    "        output = {\n",
    "            \"id\" : None,\n",
    "            \"books_count\": None,\n",
    "            \"ratings_count\": None,\n",
    "            \"text_reviews_count\": None,\n",
    "            \"original_publication_year\": None,\n",
    "            \"average_rating\": None\n",
    "        }\n",
    "    else:    \n",
    "        answer = reviews_books['search']['results']['work'][0]\n",
    "        output = {\n",
    "            \"id\" : answer.get('id').get('#text'),\n",
    "            \"books_count\": answer.get('books_count').get('#text'),\n",
    "            \"ratings_count\": answer.get('ratings_count').get('#text'),\n",
    "            \"text_reviews_count\": answer.get('text_reviews_count').get('#text'),\n",
    "            \"original_publication_year\": answer.get('original_publication_year').get('#text'),\n",
    "            \"average_rating\": answer.get('average_rating') \n",
    "        }\n",
    "        \n",
    "    # Append some other details:    \n",
    "    output['input_string'] = nombres\n",
    "    output['status'] = results\n",
    "    if return_full_response is True:\n",
    "        output['response'] = results\n",
    "    \n",
    "    return output\n",
    "\n",
    "results=[]\n",
    "for nombre in nombres:\n",
    "    goodreads_result = get_autor(nombre, API_KEY, return_full_response=RETURN_FULL_RESULTS)\n",
    "    print(nombre)\n",
    "    results.append(goodreads_result) \n",
    "\n",
    "pd.DataFrame(results).to_csv(output_filename, encoding='utf8')\n",
    "calif_autor=pd.DataFrame(results)"
   ]
  },
  {
   "cell_type": "code",
   "execution_count": null,
   "metadata": {},
   "outputs": [],
   "source": [
    "calif_autor.head()"
   ]
  },
  {
   "cell_type": "markdown",
   "metadata": {},
   "source": [
    "### 2. Búsqueda por Titulo o ISBN"
   ]
  },
  {
   "cell_type": "code",
   "execution_count": null,
   "metadata": {},
   "outputs": [],
   "source": [
    "# Specify the column name in your input data that contains the title name here\n",
    "column_name = \"ean\"\n",
    "RETURN_FULL_RESULTS = False\n",
    "# Form a list of names:\n",
    "isbn = autores[column_name].head().tolist()"
   ]
  },
  {
   "cell_type": "code",
   "execution_count": null,
   "metadata": {},
   "outputs": [],
   "source": [
    "#an example\n",
    "isbn=['9783836517317','9788433931863','9783836562690','9788498013733','9783822855225']"
   ]
  },
  {
   "cell_type": "code",
   "execution_count": null,
   "metadata": {},
   "outputs": [],
   "source": [
    "def get_titulo(isbn, API_KEY, return_full_response=False):\n",
    "    goodsread_url = ' https://www.goodreads.com/book/isbn/'\n",
    "    goodsread_url = goodsread_url + isbn + \"?key={}\".format(API_KEY)\n",
    "    resultados = requests.get(goodsread_url)\n",
    "    reviews_books = xmltodict.parse(resultados.content)\n",
    "    if resultados.status_code == 404:\n",
    "        output = {\n",
    "        'isbn13': isbn,\n",
    "        \"id\" : 0,\n",
    "        \"ratings_count\": 0,\n",
    "        \"average_rating\": 0,\n",
    "        \"text_reviews_count\": 0,\n",
    "        \"original_publication_year\": 0 }\n",
    "    else :\n",
    "        answer = reviews_books['GoodreadsResponse']['book']['work']\n",
    "        output = {\n",
    "\t\t'isbn13': reviews_books['GoodreadsResponse']['book']['isbn13'] ,\n",
    "\t\t\"id\" : answer.get('id').get('#text')  ,\n",
    "\t\t\"ratings_count\": answer.get('ratings_count').get('#text') ,\n",
    "\t\t\"text_reviews_count\": answer.get('text_reviews_count').get('#text') ,\n",
    "\t\t\"original_publication_year\": answer.get('original_publication_year').get('#text') ,\n",
    "\t\t'average_rating': reviews_books['GoodreadsResponse']['book']['average_rating'] }\n",
    "    \n",
    "    output['input_string'] = isbn\n",
    "    output['status'] = resultados\n",
    "    return output"
   ]
  },
  {
   "cell_type": "code",
   "execution_count": null,
   "metadata": {},
   "outputs": [],
   "source": [
    "results=[]\n",
    "for i in isbn:\n",
    "    print(i)\n",
    "    df=get_titulo(i, API_KEY)\n",
    "    results.append(df)"
   ]
  },
  {
   "cell_type": "markdown",
   "metadata": {},
   "source": [
    "### 3. Search by Title and author"
   ]
  },
  {
   "cell_type": "code",
   "execution_count": null,
   "metadata": {},
   "outputs": [],
   "source": [
    "def get_info_titulo(nombre_del_autor, titulo, API_KEY, return_full_response=False):\n",
    "    goodsread_url = ' https://www.goodreads.com/book/title.xml/'\n",
    "    goodsread_url = goodsread_url + \"?author={}\".format(nombre_del_autor) + \"&key={}\".format(API_KEY) + \"&title={}\".format(titulo)\n",
    "    resultados = requests.get(goodsread_url)\n",
    "    reviews_books = xmltodict.parse(resultados.content)#me trae un xml\n",
    "    if resultados.status_code != 200:\n",
    "        \n",
    "        output= {'autor': nombre_del_autor ,\n",
    "\t\t\"id\" : 0,\n",
    "        'title': titulo,\n",
    "        \"popular_shelves\": 0,\n",
    "        'similar_books':   0}\n",
    "    else:\n",
    "        output=reviews_books['GoodreadsResponse']['book']\n",
    "        #output = {\n",
    "\t\t#'isbn': reviews_books['GoodreadsResponse']['book']['isbn13'] ,\n",
    "\t\t#\"id\" : reviews_books['GoodreadsResponse']['book']['id'],\n",
    "        #'title': reviews_books['GoodreadsResponse']['book']['title'],\n",
    "        #\"popular_shelves\": reviews_books['GoodreadsResponse']['book']['popular_shelves'],\n",
    "        #'similar_books':   reviews_books['GoodreadsResponse']['book']['similar_books']}\n",
    "    #output['input_string'] = titulo\n",
    "    #output['autor'] = nombre_del_autor\n",
    "    #output=pd.json_normalize(output)\n",
    "    return output\n",
    "   \n"
   ]
  },
  {
   "cell_type": "code",
   "execution_count": null,
   "metadata": {},
   "outputs": [],
   "source": [
    "nombre_del_autor='David Dabner'\n",
    "titulo='Diseño gráfico'"
   ]
  },
  {
   "cell_type": "code",
   "execution_count": null,
   "metadata": {},
   "outputs": [],
   "source": [
    "goodsread_url = ' https://www.goodreads.com/book/title.xml/'\n",
    "goodsread_url = goodsread_url + \"?author={}\".format(nombre_del_autor) + \"&key={}\".format(API_KEY) + \"&title={}\".format(titulo)"
   ]
  },
  {
   "cell_type": "code",
   "execution_count": null,
   "metadata": {},
   "outputs": [],
   "source": [
    "goodsread_url"
   ]
  },
  {
   "cell_type": "code",
   "execution_count": null,
   "metadata": {},
   "outputs": [],
   "source": [
    "resultados = requests.get(goodsread_url)"
   ]
  },
  {
   "cell_type": "code",
   "execution_count": null,
   "metadata": {},
   "outputs": [],
   "source": [
    "reviews_books = xmltodict.parse(resultados.content)"
   ]
  },
  {
   "cell_type": "code",
   "execution_count": null,
   "metadata": {},
   "outputs": [],
   "source": [
    "# Specify the column name in your input data that contains the autors names and title here\n",
    "column_name1 = \"nombre_apellido\"\n",
    "column_name2='titulo'\n",
    "RETURN_FULL_RESULTS = False\n",
    "# Form a list of names:\n",
    "df = autores[[column_name1, column_name2]]\n",
    "df=df.drop_duplicates(keep='first')\n",
    "df=df.dropna()\n",
    "df=df.values.tolist()\n"
   ]
  },
  {
   "cell_type": "code",
   "execution_count": null,
   "metadata": {},
   "outputs": [],
   "source": [
    "df"
   ]
  },
  {
   "cell_type": "code",
   "execution_count": null,
   "metadata": {},
   "outputs": [],
   "source": [
    "results = []\n",
    "\n",
    "# Go through each titulo in turn\n",
    "for i in df :\n",
    "    output = get_info_titulo(i[0], i[1],API_KEY)\n",
    "    print(i[0], i[1])\n",
    "    #if output['id']!='sin_dato':\n",
    "    results.append(output)\n",
    "results = pd.DataFrame(results)\n",
    "results.to_csv('resultados.csv')    "
   ]
  },
  {
   "cell_type": "code",
   "execution_count": null,
   "metadata": {},
   "outputs": [],
   "source": [
    "results"
   ]
  },
  {
   "cell_type": "markdown",
   "metadata": {},
   "source": [
    "#### I want to know similar books"
   ]
  },
  {
   "cell_type": "code",
   "execution_count": null,
   "metadata": {},
   "outputs": [],
   "source": [
    "similar_books = []\n",
    "for i in range(len(results['id'])):\n",
    "    for e in range (len(results['similar_books'])):   \n",
    "        try:\n",
    "            similar_books.append({ 'id': results['id'][i],\n",
    "                                    'isbn13': results['isbn13'][i],\n",
    "                                 'titulo': results['title'][i],\n",
    "                                'similar_books_book_id': results['similar_books'][i]['book'][e]['id'],\n",
    "                                'similar_books_titulo':  results['similar_books'][i]['book'][e]['title'], \n",
    "                                'similar_books_isbn13':  results['similar_books'][i]['book'][e]['isbn13']})\n",
    "        except: \n",
    "            pass\n",
    "        "
   ]
  },
  {
   "cell_type": "code",
   "execution_count": null,
   "metadata": {},
   "outputs": [],
   "source": [
    "similar_books=pd.DataFrame(similar_books)"
   ]
  },
  {
   "cell_type": "code",
   "execution_count": null,
   "metadata": {},
   "outputs": [],
   "source": [
    "similar_books"
   ]
  },
  {
   "cell_type": "markdown",
   "metadata": {},
   "source": [
    "#### Popular shelves"
   ]
  },
  {
   "cell_type": "code",
   "execution_count": null,
   "metadata": {},
   "outputs": [],
   "source": [
    "listados_all=[]\n",
    "for i in range(len(results['id'])):\n",
    "    for e in range(100):\n",
    "        try:\n",
    "            listados_all.append({ 'id': results['id'][i], \n",
    "                                 'isbn13': df['isbn13'][i], \n",
    "                                 'titulo': results['title'][i],\n",
    "                                 'list': results['popular_shelves'][i]['shelf'][e]['@name'],\n",
    "                                 'count':  results['popular_shelves'][i]['shelf'][e]['@count']})\n",
    "        except: \n",
    "            pass\n",
    "        \n",
    "listados_all=pd.DataFrame(listados_all)"
   ]
  },
  {
   "cell_type": "code",
   "execution_count": null,
   "metadata": {},
   "outputs": [],
   "source": [
    "listados_all"
   ]
  }
 ],
 "metadata": {
  "kernelspec": {
   "display_name": "Python 3 (ipykernel)",
   "language": "python",
   "name": "python3"
  },
  "language_info": {
   "codemirror_mode": {
    "name": "ipython",
    "version": 3
   },
   "file_extension": ".py",
   "mimetype": "text/x-python",
   "name": "python",
   "nbconvert_exporter": "python",
   "pygments_lexer": "ipython3",
   "version": "3.9.7"
  }
 },
 "nbformat": 4,
 "nbformat_minor": 4
}
